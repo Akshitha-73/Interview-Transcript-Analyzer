{
  "nbformat": 4,
  "nbformat_minor": 0,
  "metadata": {
    "colab": {
      "provenance": []
    },
    "kernelspec": {
      "name": "python3",
      "display_name": "Python 3"
    },
    "language_info": {
      "name": "python"
    }
  },
  "cells": [
    {
      "cell_type": "code",
      "source": [
        "import random\n",
        "import pandas as pd\n",
        "import numpy as np\n",
        "from datetime import datetime, timedelta\n",
        "\n",
        "random.seed(42)\n",
        "np.random.seed(42)"
      ],
      "metadata": {
        "id": "KlgFnGWpyZvI"
      },
      "execution_count": 1,
      "outputs": []
    },
    {
      "cell_type": "markdown",
      "source": [
        "## NAME"
      ],
      "metadata": {
        "id": "1UFr7At_zJpF"
      }
    },
    {
      "cell_type": "code",
      "execution_count": 2,
      "metadata": {
        "id": "RUg7rbS8xDZZ"
      },
      "outputs": [],
      "source": [
        "num_rows = 100\n",
        "\n",
        "\n",
        "first_names = [\n",
        "    \"Aarav\",\"Vivaan\",\"Ishaan\",\"Kabir\",\"Reyansh\",\"Arjun\",\"Advait\",\"Rohan\",\"Dhruv\",\"Shaurya\",\n",
        "    \"Aanya\",\"Diya\",\"Myra\",\"Anaya\",\"Kiara\",\"Aisha\",\"Sara\",\"Meera\",\"Riya\",\"Tara\",\n",
        "    \"Priya\",\"Neha\",\"Saanvi\",\"Ishita\",\"Lavanya\",\"Sneha\",\"Kavya\",\"Pooja\",\"Ritika\",\"Esha\"\n",
        "]\n",
        "last_names = [\n",
        "    \"Sharma\",\"Verma\",\"Patel\",\"Reddy\",\"Singh\",\"Iyer\",\"Chopra\",\"Kapoor\",\"Malhotra\",\"Nair\",\n",
        "    \"Gupta\",\"Agarwal\",\"Bose\",\"Mehta\",\"Kulkarni\",\"Desai\",\"Gowda\",\"Shetty\",\"Pandey\",\"Joshi\",\n",
        "    \"Rao\",\"Khan\",\"Saxena\",\"Nambiar\",\"Bhandari\",\"Chatterjee\",\"Dutta\",\"Menon\",\"Saxena\",\"Bhatt\"\n",
        "]\n",
        "\n",
        "\n",
        "names = []\n",
        "for fn in first_names:\n",
        "    for ln in last_names:\n",
        "        names.append(f\"{fn} {ln}\")\n",
        "random.shuffle(names)\n",
        "names = names[:num_rows]\n",
        "\n",
        "\n",
        "\n"
      ]
    },
    {
      "cell_type": "markdown",
      "source": [
        "## ROLE\n"
      ],
      "metadata": {
        "id": "-_y9EV7rzOTF"
      }
    },
    {
      "cell_type": "code",
      "source": [
        "roles = [\n",
        "    \"Marketing Manager\",\n",
        "    \"Software Engineer\",\n",
        "    \"HR Executive\",\n",
        "    \"Data Analyst\",\n",
        "    \"Project Manager\",\n",
        "    \"AI/ML Engineer\"\n",
        "]"
      ],
      "metadata": {
        "id": "dDQQgbbTy_Zg"
      },
      "execution_count": 3,
      "outputs": []
    },
    {
      "cell_type": "markdown",
      "source": [
        "## ROLE_SKILLS\n"
      ],
      "metadata": {
        "id": "uK6y7gZzzVr4"
      }
    },
    {
      "cell_type": "code",
      "source": [
        "role_skills = {\n",
        "    \"Marketing Manager\": [\"branding\", \"campaigns\", \"digital marketing\", \"analytics\", \"team management\"],\n",
        "    \"Software Engineer\": [\"python\", \"java\", \"problem-solving\", \"data structures\", \"algorithms\"],\n",
        "    \"HR Executive\": [\"employee engagement\", \"communication\", \"recruitment\", \"policy\", \"onboarding\"],\n",
        "    \"Data Analyst\": [\"data analysis\", \"sql\", \"excel\", \"visualization\", \"statistics\"],\n",
        "    \"Project Manager\": [\"leadership\", \"agile\", \"project planning\", \"stakeholder\", \"risk management\"],\n",
        "    \"AI/ML Engineer\": [\"machine learning\", \"python\", \"deep learning\", \"model deployment\", \"data preprocessing\"]\n",
        "}"
      ],
      "metadata": {
        "id": "atzM1amWzb4-"
      },
      "execution_count": 4,
      "outputs": []
    },
    {
      "cell_type": "markdown",
      "source": [
        "## JD"
      ],
      "metadata": {
        "id": "U-j03vFZzZN8"
      }
    },
    {
      "cell_type": "code",
      "source": [
        "role_jd = {\n",
        "    \"Marketing Manager\": \"Lead marketing campaigns, drive brand awareness across digital platforms, and manage a small marketing team. Creativity and analytics required.\",\n",
        "    \"Software Engineer\": \"Design and implement scalable software solutions, write clean code, and collaborate on architecture decisions. Strong problem solving and data structures knowledge expected.\",\n",
        "    \"HR Executive\": \"Manage recruitment, employee engagement initiatives, and HR policy implementation. Excellent communication and organizational skills required.\",\n",
        "    \"Data Analyst\": \"Analyze business data, build dashboards and reports, and support decision making with insights. Strong SQL and visualization experience required.\",\n",
        "    \"Project Manager\": \"Lead cross-functional projects, manage schedules and stakeholders, and ensure delivery using Agile methodologies.\",\n",
        "    \"AI/ML Engineer\": \"Develop and deploy machine learning models, perform data preprocessing and model evaluation, and work on production ML pipelines.\"\n",
        "}"
      ],
      "metadata": {
        "id": "ZCOEOZvhzFn6"
      },
      "execution_count": 5,
      "outputs": []
    },
    {
      "cell_type": "markdown",
      "source": [
        "## TRANSCRIPT\n"
      ],
      "metadata": {
        "id": "oMVajLtQzoZt"
      }
    },
    {
      "cell_type": "code",
      "source": [
        "greetings = [\n",
        "    \"Good morning! Thank you for this opportunity.\",\n",
        "    \"Good afternoon, thank you for taking the time.\",\n",
        "    \"Hi, thanks for having me today.\"\n",
        "]\n",
        "\n",
        "interviewer_openers = [\n",
        "    \"You're welcome. Let's start with some questions.\",\n",
        "    \"Thanks for joining — let's begin.\",\n",
        "    \"Great to meet you. We'll go through some questions.\"\n",
        "]\n",
        "\n",
        "def choose_with_fillers(base_text, filler_prob=0.25):\n",
        "    fillers = [\"uh\", \"you know\", \"I mean\", \"well\", \"...\", \"so\"]\n",
        "    if random.random() < filler_prob:\n",
        "        f = random.choice(fillers)\n",
        "        parts = base_text.split(\" \", 1)\n",
        "        if len(parts) > 1:\n",
        "            return parts[0] + \" \" + f + \" \" + parts[1]\n",
        "        else:\n",
        "            return f + \" \" + base_text\n",
        "    return base_text\n",
        "\n",
        "def make_candidate_answer(role, topic):\n",
        "    skills = role_skills.get(role, [])\n",
        "    templates = {\n",
        "        \"intro\": [\n",
        "            f\"I am a {role.split()[0]} with experience in \" + \", \".join(skills[:2]) + \".\",\n",
        "            f\"I graduated in Computer Science and have worked on projects involving {', '.join(skills[:2])}.\",\n",
        "            f\"I have around {random.randint(2,7)} years of experience focusing on \" + \", \".join(skills[:2]) + \".\"\n",
        "        ],\n",
        "        \"strengths\": [\n",
        "            \"I enjoy problem-solving and collaborating with teams.\",\n",
        "            f\"My strengths are {skills[0]} and {skills[1]}.\",\n",
        "            \"I am detail-oriented and I communicate well with stakeholders.\"\n",
        "        ],\n",
        "        \"weakness\": [\n",
        "            \"Sometimes I get too focused on details, but I try to delegate.\",\n",
        "            \"I can be cautious with deadlines, and I'm working on prioritization.\",\n",
        "            \"I tend to overanalyze but I've improved by setting time-boxes.\"\n",
        "        ],\n",
        "        \"technical\": [\n",
        "            f\"I have hands-on experience with {skills[0]} and {skills[1]}.\",\n",
        "            f\"I worked on projects using {', '.join(skills[:3])}.\",\n",
        "            f\"For technical tasks I usually rely on {skills[0]} and complement it with {skills[1]}.\"\n",
        "        ],\n",
        "        \"project\": [\n",
        "            f\"I led a project where we used {skills[0]} to deliver a solution that improved metrics.\",\n",
        "            f\"I developed a tool using {skills[0]} that automated a lot of manual work.\",\n",
        "            f\"My last project involved {skills[1]} and cross-functional coordination.\"\n",
        "        ],\n",
        "        \"team\": [\n",
        "            \"I enjoy mentoring juniors and helping the team grow.\",\n",
        "            \"I coordinate closely with cross-functional stakeholders to deliver results.\"\n",
        "        ],\n",
        "        \"tools\": [\n",
        "            \"I regularly use tools like JIRA and Trello for tracking.\",\n",
        "            \"I use SQL and Excel for analysis and reporting.\",\n",
        "            \"I use Git for version control and Jenkins for CI/CD.\"\n",
        "        ],\n",
        "        \"learning\": [\n",
        "            \"I take hands-on courses and apply them to projects.\",\n",
        "            \"I learn by building small projects and iterating quickly.\"\n",
        "        ],\n",
        "        \"goals\": [\n",
        "            \"In the next 5 years, I aim to grow into a leadership role.\",\n",
        "            \"I want to deepen my expertise and lead a team of engineers/marketers.\"\n",
        "        ],\n",
        "        \"closing\": [\n",
        "            \"Thank you for your time. I'm excited about this opportunity.\",\n",
        "            \"I look forward to hearing from you. Thank you.\"\n",
        "        ]\n",
        "    }\n",
        "    base = random.choice(templates.get(topic, [\"I can elaborate more if you'd like.\"]))\n",
        "    return choose_with_fillers(base, filler_prob=0.25)\n",
        "\n",
        "\n",
        "def generate_transcript(name, role):\n",
        "    turns = []\n",
        "    cand_greet = random.choice(greetings)\n",
        "    turns.append(f\"{name}: {cand_greet}\")\n",
        "    turns.append(f\"Interviewer: {random.choice(interviewer_openers)}\")\n",
        "    topics = [\"intro\", \"strengths\", \"weakness\", \"technical\", \"project\", \"team\", \"tools\", \"learning\", \"goals\", \"closing\"]\n",
        "    num_lines = random.randint(20,24)\n",
        "    i = 2\n",
        "    interviewer_qs = [\n",
        "        \"To begin, can you tell me about yourself?\",\n",
        "        \"What are your key strengths?\",\n",
        "        \"What is a weakness you are working on?\",\n",
        "        \"Tell me about a recent technical/project you worked on.\",\n",
        "        \"Which tools and technologies do you use?\",\n",
        "        \"How do you handle deadlines and pressure?\",\n",
        "        \"How do you work with cross-functional teams?\",\n",
        "        \"How do you approach learning a new skill?\",\n",
        "        \"What motivates you at work?\",\n",
        "        \"Do you have any questions for us?\",\n",
        "        \"Can you walk me through a challenging problem you solved?\",\n",
        "        \"Describe your role in your last project.\"\n",
        "    ]\n",
        "\n",
        "    while i < num_lines:\n",
        "        q = random.choice(interviewer_qs)\n",
        "        turns.append(f\"Interviewer: {q}\")\n",
        "        i += 1\n",
        "        if i >= num_lines:\n",
        "            break\n",
        "        if \"tell me about yourself\" in q.lower() or \"begin\" in q.lower():\n",
        "            topic = \"intro\"\n",
        "        elif \"strength\" in q.lower():\n",
        "            topic = \"strengths\"\n",
        "        elif \"weakness\" in q.lower():\n",
        "            topic = \"weakness\"\n",
        "        elif \"technical\" in q.lower() or \"project\" in q.lower() or \"walk me\" in q.lower() or \"challenge\" in q.lower():\n",
        "            topic = \"project\" if random.random()<0.5 else \"technical\"\n",
        "        elif \"tools\" in q.lower():\n",
        "            topic = \"tools\"\n",
        "        elif \"learning\" in q.lower():\n",
        "            topic = \"learning\"\n",
        "        elif \"motivate\" in q.lower():\n",
        "            topic = \"goals\"\n",
        "        elif \"questions for us\" in q.lower():\n",
        "            topic = \"closing\"\n",
        "        else:\n",
        "            topic = random.choice(topics)\n",
        "        answer = make_candidate_answer(role, topic)\n",
        "        if random.random() < 0.2:\n",
        "            turns.append(f\"Candidate: {answer}\")\n",
        "        else:\n",
        "            turns.append(f\"{name}: {answer}\")\n",
        "        i += 1\n",
        "\n",
        "    if not any(\"Thank you\" in t or \"look forward\" in t or \"closing\" in t.lower() for t in turns[-4:]):\n",
        "        turns.append(f\"Interviewer: That concludes our questions. Do you have anything to ask us?\")\n",
        "        turns.append(f\"{name}: {random.choice(['Yes, I would like to know more about the team I’d be working with.', 'No, thank you. I look forward to hearing from you.'])}\")\n",
        "    return \"\\n\".join(turns)\n",
        "\n"
      ],
      "metadata": {
        "id": "EiApteyuzrhN"
      },
      "execution_count": 6,
      "outputs": []
    },
    {
      "cell_type": "markdown",
      "source": [
        "## DATA\n"
      ],
      "metadata": {
        "id": "nNsGZcYPz0sr"
      }
    },
    {
      "cell_type": "code",
      "source": [
        "rows = []\n",
        "\n",
        "start_date = datetime(2023,1,1)\n",
        "for idx in range(num_rows):\n",
        "    interview_id = f\"INT{str(1001+idx).zfill(4)}\"\n",
        "    name = names[idx]\n",
        "\n",
        "    age = random.randint(22,45)\n",
        "\n",
        "    gender = random.choices([\"Male\",\"Female\",\"Other\"], weights=[0.47,0.47,0.06])[0]\n",
        "\n",
        "    role = random.choice(roles)\n",
        "\n",
        "    skills = role_skills[role]\n",
        "\n",
        "    industry_skills = \", \".join(skills)\n",
        "\n",
        "    jd = role_jd[role]\n",
        "\n",
        "\n",
        "    delta_days = random.randint(0, (datetime(2025,10,1)-start_date).days)\n",
        "    interview_date = (start_date + timedelta(days=delta_days)).strftime(\"%Y-%m-%d\")\n",
        "\n",
        "    transcript = generate_transcript(name, role)\n",
        "\n",
        "    rows.append({\n",
        "        \"interview_id\": interview_id,\n",
        "        \"name\": name,\n",
        "        \"age\": age,\n",
        "        \"gender\": gender,\n",
        "        \"role_applied\": role,\n",
        "        \"industry_skills\": industry_skills,\n",
        "        \"jd\": jd,\n",
        "        \"interview_date\": interview_date,\n",
        "        \"transcript\": transcript\n",
        "    })\n",
        "\n",
        "df = pd.DataFrame(rows)"
      ],
      "metadata": {
        "id": "V8ROmPgJz2NK"
      },
      "execution_count": 7,
      "outputs": []
    },
    {
      "cell_type": "code",
      "source": [
        "assert len(df) == num_rows\n",
        "assert df['name'].is_unique\n",
        "\n",
        "\n",
        "file_path = \"Synthetic_data_HRTECH.csv\"\n",
        "df.to_csv(file_path, index=False)"
      ],
      "metadata": {
        "id": "0FxOIWZh0EJ_"
      },
      "execution_count": 9,
      "outputs": []
    },
    {
      "cell_type": "code",
      "source": [],
      "metadata": {
        "id": "GLxUZWVF0qoP"
      },
      "execution_count": null,
      "outputs": []
    }
  ]
}